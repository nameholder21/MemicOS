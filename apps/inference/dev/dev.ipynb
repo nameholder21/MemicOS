{
 "cells": [
  {
   "cell_type": "code",
   "execution_count": 48,
   "metadata": {},
   "outputs": [],
   "source": [
    "from sae_lens import SAE\n",
    "\n",
    "sae_set = \"gemma-scope-2b-pt-mlp-canonical\"\n",
    "sae = SAE.from_pretrained(sae_set, \"layer_0/width_16k/canonical\", device=\"cpu\")[0]\n",
    "sae.fold_W_dec_norm()"
   ]
  },
  {
   "cell_type": "code",
   "execution_count": 49,
   "metadata": {},
   "outputs": [
    {
     "data": {
      "text/plain": [
       "torch.Size([16384, 2304])"
      ]
     },
     "execution_count": 49,
     "metadata": {},
     "output_type": "execute_result"
    }
   ],
   "source": [
    "sae.W_dec.shape"
   ]
  },
  {
   "cell_type": "code",
   "execution_count": 53,
   "metadata": {},
   "outputs": [
    {
     "name": "stdout",
     "output_type": "stream",
     "text": [
      "[1.0000001192092896, 0.11775779724121094, 0.09122851490974426, 0.08030861616134644, 0.0798678770661354]\n",
      "[0, 15088, 15820, 154, 9420]\n"
     ]
    }
   ],
   "source": [
    "# get the top k feature by cosine similarity  with one of the features\n",
    "import torch\n",
    "\n",
    "\n",
    "def get_top_k_features(sae, feature_id, k=5):\n",
    "    feature = sae.W_dec[feature_id]\n",
    "    cosine_similarities = torch.nn.functional.cosine_similarity(\n",
    "        feature.unsqueeze(0), sae.W_dec\n",
    "    )\n",
    "    vals, inds = torch.topk(cosine_similarities, k=k)\n",
    "    return vals.tolist(), inds.tolist()\n",
    "\n",
    "\n",
    "vals, inds = get_top_k_features(sae, 0)\n",
    "print(vals)\n",
    "print(inds)"
   ]
  },
  {
   "cell_type": "code",
   "execution_count": null,
   "metadata": {},
   "outputs": [],
   "source": []
  },
  {
   "cell_type": "code",
   "execution_count": null,
   "metadata": {},
   "outputs": [],
   "source": []
  },
  {
   "cell_type": "code",
   "execution_count": null,
   "metadata": {},
   "outputs": [],
   "source": []
  }
 ],
 "metadata": {
  "kernelspec": {
   "display_name": ".venv",
   "language": "python",
   "name": "python3"
  },
  "language_info": {
   "codemirror_mode": {
    "name": "ipython",
    "version": 3
   },
   "file_extension": ".py",
   "mimetype": "text/x-python",
   "name": "python",
   "nbconvert_exporter": "python",
   "pygments_lexer": "ipython3",
   "version": "3.12.5"
  }
 },
 "nbformat": 4,
 "nbformat_minor": 2
}
